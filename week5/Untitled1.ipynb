{
 "cells": [
  {
   "cell_type": "code",
   "execution_count": 2,
   "id": "57fa45af",
   "metadata": {},
   "outputs": [
    {
     "name": "stdout",
     "output_type": "stream",
     "text": [
      "Requirement already satisfied: pm4py in c:\\users\\lee eunchae\\anaconda3\\lib\\site-packages (2.7.4)\n",
      "Requirement already satisfied: tqdm in c:\\users\\lee eunchae\\anaconda3\\lib\\site-packages (from pm4py) (4.64.1)\n",
      "Requirement already satisfied: pydotplus in c:\\users\\lee eunchae\\anaconda3\\lib\\site-packages (from pm4py) (2.0.2)\n",
      "Requirement already satisfied: pandas in c:\\users\\lee eunchae\\anaconda3\\lib\\site-packages (from pm4py) (1.5.3)\n",
      "Requirement already satisfied: pytz in c:\\users\\lee eunchae\\anaconda3\\lib\\site-packages (from pm4py) (2022.7)\n",
      "Requirement already satisfied: cvxopt in c:\\users\\lee eunchae\\anaconda3\\lib\\site-packages (from pm4py) (1.3.1)\n",
      "Requirement already satisfied: graphviz in c:\\users\\lee eunchae\\anaconda3\\lib\\site-packages (from pm4py) (0.20.1)\n",
      "Requirement already satisfied: stringdist in c:\\users\\lee eunchae\\anaconda3\\lib\\site-packages (from pm4py) (1.0.9)\n",
      "Requirement already satisfied: networkx in c:\\users\\lee eunchae\\anaconda3\\lib\\site-packages (from pm4py) (2.8.4)\n",
      "Requirement already satisfied: intervaltree in c:\\users\\lee eunchae\\anaconda3\\lib\\site-packages (from pm4py) (3.1.0)\n",
      "Requirement already satisfied: matplotlib in c:\\users\\lee eunchae\\anaconda3\\lib\\site-packages (from pm4py) (3.7.0)\n",
      "Requirement already satisfied: numpy in c:\\users\\lee eunchae\\anaconda3\\lib\\site-packages (from pm4py) (1.23.5)\n",
      "Requirement already satisfied: lxml in c:\\users\\lee eunchae\\anaconda3\\lib\\site-packages (from pm4py) (4.9.1)\n",
      "Requirement already satisfied: scipy in c:\\users\\lee eunchae\\anaconda3\\lib\\site-packages (from pm4py) (1.10.0)\n",
      "Requirement already satisfied: deprecation in c:\\users\\lee eunchae\\anaconda3\\lib\\site-packages (from pm4py) (2.1.0)\n",
      "Requirement already satisfied: packaging in c:\\users\\lee eunchae\\anaconda3\\lib\\site-packages (from deprecation->pm4py) (22.0)\n",
      "Requirement already satisfied: sortedcontainers<3.0,>=2.0 in c:\\users\\lee eunchae\\anaconda3\\lib\\site-packages (from intervaltree->pm4py) (2.4.0)\n",
      "Requirement already satisfied: fonttools>=4.22.0 in c:\\users\\lee eunchae\\anaconda3\\lib\\site-packages (from matplotlib->pm4py) (4.25.0)\n",
      "Requirement already satisfied: pyparsing>=2.3.1 in c:\\users\\lee eunchae\\anaconda3\\lib\\site-packages (from matplotlib->pm4py) (3.0.9)\n",
      "Requirement already satisfied: contourpy>=1.0.1 in c:\\users\\lee eunchae\\anaconda3\\lib\\site-packages (from matplotlib->pm4py) (1.0.5)\n",
      "Requirement already satisfied: pillow>=6.2.0 in c:\\users\\lee eunchae\\anaconda3\\lib\\site-packages (from matplotlib->pm4py) (9.4.0)\n",
      "Requirement already satisfied: kiwisolver>=1.0.1 in c:\\users\\lee eunchae\\anaconda3\\lib\\site-packages (from matplotlib->pm4py) (1.4.4)\n",
      "Requirement already satisfied: cycler>=0.10 in c:\\users\\lee eunchae\\anaconda3\\lib\\site-packages (from matplotlib->pm4py) (0.11.0)\n",
      "Requirement already satisfied: python-dateutil>=2.7 in c:\\users\\lee eunchae\\anaconda3\\lib\\site-packages (from matplotlib->pm4py) (2.8.2)\n",
      "Requirement already satisfied: colorama in c:\\users\\lee eunchae\\anaconda3\\lib\\site-packages (from tqdm->pm4py) (0.4.6)\n",
      "Requirement already satisfied: six>=1.5 in c:\\users\\lee eunchae\\anaconda3\\lib\\site-packages (from python-dateutil>=2.7->matplotlib->pm4py) (1.16.0)\n"
     ]
    }
   ],
   "source": [
    "!pip install pm4py\n"
   ]
  },
  {
   "cell_type": "code",
   "execution_count": 6,
   "id": "9b72c9ae",
   "metadata": {},
   "outputs": [
    {
     "name": "stdout",
     "output_type": "stream",
     "text": [
      "Requirement already satisfied: pm4py in c:\\users\\lee eunchae\\anaconda3\\lib\\site-packages (2.7.4)\n",
      "Requirement already satisfied: deprecation in c:\\users\\lee eunchae\\anaconda3\\lib\\site-packages (from pm4py) (2.1.0)\n",
      "Requirement already satisfied: matplotlib in c:\\users\\lee eunchae\\anaconda3\\lib\\site-packages (from pm4py) (3.7.0)\n",
      "Requirement already satisfied: cvxopt in c:\\users\\lee eunchae\\anaconda3\\lib\\site-packages (from pm4py) (1.3.1)\n",
      "Requirement already satisfied: scipy in c:\\users\\lee eunchae\\anaconda3\\lib\\site-packages (from pm4py) (1.10.0)\n",
      "Requirement already satisfied: stringdist in c:\\users\\lee eunchae\\anaconda3\\lib\\site-packages (from pm4py) (1.0.9)\n",
      "Requirement already satisfied: pytz in c:\\users\\lee eunchae\\anaconda3\\lib\\site-packages (from pm4py) (2022.7)\n",
      "Requirement already satisfied: numpy in c:\\users\\lee eunchae\\anaconda3\\lib\\site-packages (from pm4py) (1.23.5)\n",
      "Requirement already satisfied: pandas in c:\\users\\lee eunchae\\anaconda3\\lib\\site-packages (from pm4py) (1.5.3)\n",
      "Requirement already satisfied: networkx in c:\\users\\lee eunchae\\anaconda3\\lib\\site-packages (from pm4py) (2.8.4)\n",
      "Requirement already satisfied: intervaltree in c:\\users\\lee eunchae\\anaconda3\\lib\\site-packages (from pm4py) (3.1.0)\n",
      "Requirement already satisfied: tqdm in c:\\users\\lee eunchae\\anaconda3\\lib\\site-packages (from pm4py) (4.64.1)\n",
      "Requirement already satisfied: pydotplus in c:\\users\\lee eunchae\\anaconda3\\lib\\site-packages (from pm4py) (2.0.2)\n",
      "Requirement already satisfied: lxml in c:\\users\\lee eunchae\\anaconda3\\lib\\site-packages (from pm4py) (4.9.1)\n",
      "Requirement already satisfied: graphviz in c:\\users\\lee eunchae\\anaconda3\\lib\\site-packages (from pm4py) (0.20.1)\n",
      "Requirement already satisfied: packaging in c:\\users\\lee eunchae\\anaconda3\\lib\\site-packages (from deprecation->pm4py) (22.0)\n",
      "Requirement already satisfied: sortedcontainers<3.0,>=2.0 in c:\\users\\lee eunchae\\anaconda3\\lib\\site-packages (from intervaltree->pm4py) (2.4.0)\n",
      "Requirement already satisfied: kiwisolver>=1.0.1 in c:\\users\\lee eunchae\\anaconda3\\lib\\site-packages (from matplotlib->pm4py) (1.4.4)\n",
      "Requirement already satisfied: cycler>=0.10 in c:\\users\\lee eunchae\\anaconda3\\lib\\site-packages (from matplotlib->pm4py) (0.11.0)\n",
      "Requirement already satisfied: fonttools>=4.22.0 in c:\\users\\lee eunchae\\anaconda3\\lib\\site-packages (from matplotlib->pm4py) (4.25.0)\n",
      "Requirement already satisfied: pyparsing>=2.3.1 in c:\\users\\lee eunchae\\anaconda3\\lib\\site-packages (from matplotlib->pm4py) (3.0.9)\n",
      "Requirement already satisfied: contourpy>=1.0.1 in c:\\users\\lee eunchae\\anaconda3\\lib\\site-packages (from matplotlib->pm4py) (1.0.5)\n",
      "Requirement already satisfied: python-dateutil>=2.7 in c:\\users\\lee eunchae\\anaconda3\\lib\\site-packages (from matplotlib->pm4py) (2.8.2)\n",
      "Requirement already satisfied: pillow>=6.2.0 in c:\\users\\lee eunchae\\anaconda3\\lib\\site-packages (from matplotlib->pm4py) (9.4.0)\n",
      "Requirement already satisfied: colorama in c:\\users\\lee eunchae\\anaconda3\\lib\\site-packages (from tqdm->pm4py) (0.4.6)\n",
      "Requirement already satisfied: six>=1.5 in c:\\users\\lee eunchae\\anaconda3\\lib\\site-packages (from python-dateutil>=2.7->matplotlib->pm4py) (1.16.0)\n"
     ]
    }
   ],
   "source": [
    "!pip install --upgrade pm4py\n"
   ]
  },
  {
   "cell_type": "code",
   "execution_count": 9,
   "id": "fe88648f",
   "metadata": {},
   "outputs": [
    {
     "ename": "ModuleNotFoundError",
     "evalue": "No module named 'pm4py.objects.log.importer.csv'",
     "output_type": "error",
     "traceback": [
      "\u001b[1;31m---------------------------------------------------------------------------\u001b[0m",
      "\u001b[1;31mModuleNotFoundError\u001b[0m                       Traceback (most recent call last)",
      "Cell \u001b[1;32mIn[9], line 2\u001b[0m\n\u001b[0;32m      1\u001b[0m \u001b[38;5;28;01mimport\u001b[39;00m \u001b[38;5;21;01mpandas\u001b[39;00m \u001b[38;5;28;01mas\u001b[39;00m \u001b[38;5;21;01mpd\u001b[39;00m\n\u001b[1;32m----> 2\u001b[0m \u001b[38;5;28;01mfrom\u001b[39;00m \u001b[38;5;21;01mpm4py\u001b[39;00m\u001b[38;5;21;01m.\u001b[39;00m\u001b[38;5;21;01mobjects\u001b[39;00m\u001b[38;5;21;01m.\u001b[39;00m\u001b[38;5;21;01mlog\u001b[39;00m\u001b[38;5;21;01m.\u001b[39;00m\u001b[38;5;21;01mimporter\u001b[39;00m\u001b[38;5;21;01m.\u001b[39;00m\u001b[38;5;21;01mcsv\u001b[39;00m \u001b[38;5;28;01mimport\u001b[39;00m importer \u001b[38;5;28;01mas\u001b[39;00m csv_importer\n\u001b[0;32m      3\u001b[0m \u001b[38;5;28;01mfrom\u001b[39;00m \u001b[38;5;21;01mpm4py\u001b[39;00m\u001b[38;5;21;01m.\u001b[39;00m\u001b[38;5;21;01malgo\u001b[39;00m\u001b[38;5;21;01m.\u001b[39;00m\u001b[38;5;21;01mdiscovery\u001b[39;00m\u001b[38;5;21;01m.\u001b[39;00m\u001b[38;5;21;01malpha\u001b[39;00m \u001b[38;5;28;01mimport\u001b[39;00m algorithm \u001b[38;5;28;01mas\u001b[39;00m alpha_miner\n\u001b[0;32m      4\u001b[0m \u001b[38;5;28;01mfrom\u001b[39;00m \u001b[38;5;21;01mpm4py\u001b[39;00m\u001b[38;5;21;01m.\u001b[39;00m\u001b[38;5;21;01mvisualization\u001b[39;00m\u001b[38;5;21;01m.\u001b[39;00m\u001b[38;5;21;01mpetrinet\u001b[39;00m \u001b[38;5;28;01mimport\u001b[39;00m visualizer \u001b[38;5;28;01mas\u001b[39;00m pn_visualizer\n",
      "\u001b[1;31mModuleNotFoundError\u001b[0m: No module named 'pm4py.objects.log.importer.csv'"
     ]
    }
   ],
   "source": [
    "import pandas as pd\n",
    "from pm4py.objects.log.importer.csv import importer as csv_importer\n",
    "from pm4py.algo.discovery.alpha import algorithm as alpha_miner\n",
    "from pm4py.visualization.petrinet import visualizer as pn_visualizer\n"
   ]
  },
  {
   "cell_type": "code",
   "execution_count": null,
   "id": "40b34106",
   "metadata": {},
   "outputs": [],
   "source": [
    "# Load event log from CSV file\n",
    "event_log = csv_importer.import_event_stream('ticket_process.csv', parameters={'timestamp_sort': True})\n"
   ]
  },
  {
   "cell_type": "code",
   "execution_count": null,
   "id": "cfdf36a6",
   "metadata": {},
   "outputs": [],
   "source": [
    "# Perform process discovery using Alpha Miner\n",
    "net, initial_marking, final_marking = alpha_miner.apply(event_log)\n"
   ]
  },
  {
   "cell_type": "code",
   "execution_count": null,
   "id": "8a1dcdbb",
   "metadata": {},
   "outputs": [],
   "source": [
    "# Visualize Petri net\n",
    "gviz = pn_visualizer.apply(net, initial_marking, final_marking)\n",
    "pn_visualizer.view(gviz)"
   ]
  }
 ],
 "metadata": {
  "kernelspec": {
   "display_name": "Python 3 (ipykernel)",
   "language": "python",
   "name": "python3"
  },
  "language_info": {
   "codemirror_mode": {
    "name": "ipython",
    "version": 3
   },
   "file_extension": ".py",
   "mimetype": "text/x-python",
   "name": "python",
   "nbconvert_exporter": "python",
   "pygments_lexer": "ipython3",
   "version": "3.10.9"
  }
 },
 "nbformat": 4,
 "nbformat_minor": 5
}
