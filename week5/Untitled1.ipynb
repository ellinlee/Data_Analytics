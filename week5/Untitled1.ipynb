{
 "cells": [
  {
   "cell_type": "code",
   "execution_count": 10,
   "id": "57fa45af",
   "metadata": {},
   "outputs": [
    {
     "name": "stdout",
     "output_type": "stream",
     "text": [
      "Defaulting to user installation because normal site-packages is not writeable\n",
      "Requirement already satisfied: pm4py in /home/elinlee/.local/lib/python3.10/site-packages (2.7.14.4)\n",
      "Requirement already satisfied: intervaltree in /home/elinlee/.local/lib/python3.10/site-packages (from pm4py) (3.1.0)\n",
      "Requirement already satisfied: pytz in /home/elinlee/.local/lib/python3.10/site-packages (from pm4py) (2025.1)\n",
      "Requirement already satisfied: setuptools in /usr/lib/python3/dist-packages (from pm4py) (59.6.0)\n",
      "Requirement already satisfied: networkx in /home/elinlee/.local/lib/python3.10/site-packages (from pm4py) (3.4.2)\n",
      "Requirement already satisfied: tqdm in /home/elinlee/.local/lib/python3.10/site-packages (from pm4py) (4.67.1)\n",
      "Requirement already satisfied: matplotlib in /home/elinlee/.local/lib/python3.10/site-packages (from pm4py) (3.10.1)\n",
      "Requirement already satisfied: wheel in /usr/lib/python3/dist-packages (from pm4py) (0.37.1)\n",
      "Requirement already satisfied: pydotplus in /home/elinlee/.local/lib/python3.10/site-packages (from pm4py) (2.0.2)\n",
      "Requirement already satisfied: cvxopt in /home/elinlee/.local/lib/python3.10/site-packages (from pm4py) (1.3.2)\n",
      "Requirement already satisfied: graphviz in /home/elinlee/.local/lib/python3.10/site-packages (from pm4py) (0.20.3)\n",
      "Requirement already satisfied: pandas in /home/elinlee/.local/lib/python3.10/site-packages (from pm4py) (2.2.3)\n",
      "Requirement already satisfied: lxml in /home/elinlee/.local/lib/python3.10/site-packages (from pm4py) (5.3.2)\n",
      "Requirement already satisfied: scipy in /home/elinlee/.local/lib/python3.10/site-packages (from pm4py) (1.15.2)\n",
      "Requirement already satisfied: numpy in /home/elinlee/.local/lib/python3.10/site-packages (from pm4py) (2.2.2)\n",
      "Requirement already satisfied: deprecation in /home/elinlee/.local/lib/python3.10/site-packages (from pm4py) (2.1.0)\n",
      "Requirement already satisfied: packaging in /home/elinlee/.local/lib/python3.10/site-packages (from deprecation->pm4py) (24.2)\n",
      "Requirement already satisfied: sortedcontainers<3.0,>=2.0 in /home/elinlee/.local/lib/python3.10/site-packages (from intervaltree->pm4py) (2.4.0)\n",
      "Requirement already satisfied: cycler>=0.10 in /home/elinlee/.local/lib/python3.10/site-packages (from matplotlib->pm4py) (0.12.1)\n",
      "Requirement already satisfied: python-dateutil>=2.7 in /home/elinlee/.local/lib/python3.10/site-packages (from matplotlib->pm4py) (2.9.0.post0)\n",
      "Requirement already satisfied: pyparsing>=2.3.1 in /usr/lib/python3/dist-packages (from matplotlib->pm4py) (2.4.7)\n",
      "Requirement already satisfied: fonttools>=4.22.0 in /home/elinlee/.local/lib/python3.10/site-packages (from matplotlib->pm4py) (4.57.0)\n",
      "Requirement already satisfied: pillow>=8 in /home/elinlee/.local/lib/python3.10/site-packages (from matplotlib->pm4py) (11.1.0)\n",
      "Requirement already satisfied: contourpy>=1.0.1 in /home/elinlee/.local/lib/python3.10/site-packages (from matplotlib->pm4py) (1.3.1)\n",
      "Requirement already satisfied: kiwisolver>=1.3.1 in /home/elinlee/.local/lib/python3.10/site-packages (from matplotlib->pm4py) (1.4.8)\n",
      "Requirement already satisfied: tzdata>=2022.7 in /home/elinlee/.local/lib/python3.10/site-packages (from pandas->pm4py) (2025.1)\n",
      "Requirement already satisfied: six>=1.5 in /usr/lib/python3/dist-packages (from python-dateutil>=2.7->matplotlib->pm4py) (1.16.0)\n",
      "Defaulting to user installation because normal site-packages is not writeable\n",
      "Requirement already satisfied: graphviz in /home/elinlee/.local/lib/python3.10/site-packages (0.20.3)\n"
     ]
    }
   ],
   "source": [
    "!pip install pm4py\n",
    "!pip install graphviz\n"
   ]
  },
  {
   "cell_type": "code",
   "execution_count": 11,
   "id": "9b72c9ae",
   "metadata": {},
   "outputs": [
    {
     "name": "stdout",
     "output_type": "stream",
     "text": [
      "Defaulting to user installation because normal site-packages is not writeable\n",
      "Requirement already satisfied: pm4py in /home/elinlee/.local/lib/python3.10/site-packages (2.7.14.4)\n",
      "Requirement already satisfied: deprecation in /home/elinlee/.local/lib/python3.10/site-packages (from pm4py) (2.1.0)\n",
      "Requirement already satisfied: wheel in /usr/lib/python3/dist-packages (from pm4py) (0.37.1)\n",
      "Requirement already satisfied: pydotplus in /home/elinlee/.local/lib/python3.10/site-packages (from pm4py) (2.0.2)\n",
      "Requirement already satisfied: tqdm in /home/elinlee/.local/lib/python3.10/site-packages (from pm4py) (4.67.1)\n",
      "Requirement already satisfied: graphviz in /home/elinlee/.local/lib/python3.10/site-packages (from pm4py) (0.20.3)\n",
      "Requirement already satisfied: setuptools in /usr/lib/python3/dist-packages (from pm4py) (59.6.0)\n",
      "Requirement already satisfied: numpy in /home/elinlee/.local/lib/python3.10/site-packages (from pm4py) (2.2.2)\n",
      "Requirement already satisfied: pytz in /home/elinlee/.local/lib/python3.10/site-packages (from pm4py) (2025.1)\n",
      "Requirement already satisfied: matplotlib in /home/elinlee/.local/lib/python3.10/site-packages (from pm4py) (3.10.1)\n",
      "Requirement already satisfied: networkx in /home/elinlee/.local/lib/python3.10/site-packages (from pm4py) (3.4.2)\n",
      "Requirement already satisfied: intervaltree in /home/elinlee/.local/lib/python3.10/site-packages (from pm4py) (3.1.0)\n",
      "Requirement already satisfied: cvxopt in /home/elinlee/.local/lib/python3.10/site-packages (from pm4py) (1.3.2)\n",
      "Requirement already satisfied: lxml in /home/elinlee/.local/lib/python3.10/site-packages (from pm4py) (5.3.2)\n",
      "Requirement already satisfied: scipy in /home/elinlee/.local/lib/python3.10/site-packages (from pm4py) (1.15.2)\n",
      "Requirement already satisfied: pandas in /home/elinlee/.local/lib/python3.10/site-packages (from pm4py) (2.2.3)\n",
      "Requirement already satisfied: packaging in /home/elinlee/.local/lib/python3.10/site-packages (from deprecation->pm4py) (24.2)\n",
      "Requirement already satisfied: sortedcontainers<3.0,>=2.0 in /home/elinlee/.local/lib/python3.10/site-packages (from intervaltree->pm4py) (2.4.0)\n",
      "Requirement already satisfied: pillow>=8 in /home/elinlee/.local/lib/python3.10/site-packages (from matplotlib->pm4py) (11.1.0)\n",
      "Requirement already satisfied: pyparsing>=2.3.1 in /usr/lib/python3/dist-packages (from matplotlib->pm4py) (2.4.7)\n",
      "Requirement already satisfied: python-dateutil>=2.7 in /home/elinlee/.local/lib/python3.10/site-packages (from matplotlib->pm4py) (2.9.0.post0)\n",
      "Requirement already satisfied: kiwisolver>=1.3.1 in /home/elinlee/.local/lib/python3.10/site-packages (from matplotlib->pm4py) (1.4.8)\n",
      "Requirement already satisfied: cycler>=0.10 in /home/elinlee/.local/lib/python3.10/site-packages (from matplotlib->pm4py) (0.12.1)\n",
      "Requirement already satisfied: contourpy>=1.0.1 in /home/elinlee/.local/lib/python3.10/site-packages (from matplotlib->pm4py) (1.3.1)\n",
      "Requirement already satisfied: fonttools>=4.22.0 in /home/elinlee/.local/lib/python3.10/site-packages (from matplotlib->pm4py) (4.57.0)\n",
      "Requirement already satisfied: tzdata>=2022.7 in /home/elinlee/.local/lib/python3.10/site-packages (from pandas->pm4py) (2025.1)\n",
      "Requirement already satisfied: six>=1.5 in /usr/lib/python3/dist-packages (from python-dateutil>=2.7->matplotlib->pm4py) (1.16.0)\n"
     ]
    }
   ],
   "source": [
    "!pip install --upgrade pm4py\n"
   ]
  },
  {
   "cell_type": "code",
   "execution_count": 13,
   "id": "edbd0dd7",
   "metadata": {},
   "outputs": [
    {
     "name": "stdout",
     "output_type": "stream",
     "text": [
      "0.20.3\n",
      "Graphviz and pm4py are working correctly!\n"
     ]
    }
   ],
   "source": [
    "!which python\n",
    "\n",
    "import graphviz\n",
    "print(graphviz.__version__)\n",
    "\n",
    "from pm4py.visualization.petri_net import visualizer as pn_visualizer\n",
    "print(\"Graphviz and pm4py are working correctly!\")\n"
   ]
  },
  {
   "cell_type": "code",
   "execution_count": null,
   "id": "fe88648f",
   "metadata": {},
   "outputs": [
    {
     "data": {
      "image/png": "[encoded data removed]",
      "text/plain": [
       "<IPython.core.display.Image object>"
      ]
     },
     "metadata": {},
     "output_type": "display_data"
    }
   ],
   "source": [
    "import pandas as pd\n",
    "from pm4py.objects.log.util import dataframe_utils\n",
    "from pm4py.objects.conversion.log import converter as log_converter\n",
    "from pm4py.algo.discovery.alpha import algorithm as alpha_miner\n",
    "from pm4py.visualization.petri_net import visualizer as pn_visualizer\n",
    "\n",
    "# CSV 파일 로드\n",
    "df = pd.read_csv('ticket_process.csv')\n",
    "\n",
    "# pm4py 형식에 맞게 컬럼명 변환\n",
    "df.rename(columns={\n",
    "    \"case_id\": \"case:concept:name\",\n",
    "    \"activity\": \"concept:name\",\n",
    "    \"timestamp\": \"time:timestamp\"\n",
    "}, inplace=True)\n",
    "\n",
    "# 타임스탬프 형식 변환\n",
    "df['time:timestamp'] = pd.to_datetime(df['time:timestamp'])\n",
    "\n",
    "# DataFrame을 Event Log로 변환\n",
    "df = dataframe_utils.convert_timestamp_columns_in_df(df)\n",
    "log = log_converter.apply(df, variant=log_converter.Variants.TO_EVENT_LOG)\n",
    "\n",
    "# Alpha Miner 알고리즘 적용\n",
    "net, initial_marking, final_marking = alpha_miner.apply(log)\n",
    "\n",
    "# 모델 시각화\n",
    "gviz = pn_visualizer.apply(net, initial_marking, final_marking)\n",
    "pn_visualizer.view(gviz)\n"
   ]
  }
 ],
 "metadata": {
  "kernelspec": {
   "display_name": "Python 3",
   "language": "python",
   "name": "python3"
  },
  "language_info": {
   "codemirror_mode": {
    "name": "ipython",
    "version": 3
   },
   "file_extension": ".py",
   "mimetype": "text/x-python",
   "name": "python",
   "nbconvert_exporter": "python",
   "pygments_lexer": "ipython3",
   "version": "3.10.12"
  }
 },
 "nbformat": 4,
 "nbformat_minor": 5
}
