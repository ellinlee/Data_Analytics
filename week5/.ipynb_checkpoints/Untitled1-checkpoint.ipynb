{
 "cells": [
  {
   "cell_type": "code",
   "execution_count": 1,
   "id": "57fa45af",
   "metadata": {},
   "outputs": [
    {
     "name": "stdout",
     "output_type": "stream",
     "text": [
      "Defaulting to user installation because normal site-packages is not writeable\n",
      "Requirement already satisfied: pm4py in /home/elinlee/.local/lib/python3.10/site-packages (2.7.14.4)\n",
      "Requirement already satisfied: wheel in /usr/lib/python3/dist-packages (from pm4py) (0.37.1)\n",
      "Requirement already satisfied: tqdm in /home/elinlee/.local/lib/python3.10/site-packages (from pm4py) (4.67.1)\n",
      "Requirement already satisfied: deprecation in /home/elinlee/.local/lib/python3.10/site-packages (from pm4py) (2.1.0)\n",
      "Requirement already satisfied: lxml in /home/elinlee/.local/lib/python3.10/site-packages (from pm4py) (5.3.2)\n",
      "Requirement already satisfied: scipy in /home/elinlee/.local/lib/python3.10/site-packages (from pm4py) (1.15.2)\n",
      "Requirement already satisfied: pydotplus in /home/elinlee/.local/lib/python3.10/site-packages (from pm4py) (2.0.2)\n",
      "Requirement already satisfied: pandas in /home/elinlee/.local/lib/python3.10/site-packages (from pm4py) (2.2.3)\n",
      "Requirement already satisfied: cvxopt in /home/elinlee/.local/lib/python3.10/site-packages (from pm4py) (1.3.2)\n",
      "Requirement already satisfied: pytz in /home/elinlee/.local/lib/python3.10/site-packages (from pm4py) (2025.1)\n",
      "Requirement already satisfied: numpy in /home/elinlee/.local/lib/python3.10/site-packages (from pm4py) (2.2.2)\n",
      "Requirement already satisfied: setuptools in /usr/lib/python3/dist-packages (from pm4py) (59.6.0)\n",
      "Requirement already satisfied: graphviz in /home/elinlee/.local/lib/python3.10/site-packages (from pm4py) (0.20.3)\n",
      "Requirement already satisfied: matplotlib in /home/elinlee/.local/lib/python3.10/site-packages (from pm4py) (3.10.1)\n",
      "Requirement already satisfied: intervaltree in /home/elinlee/.local/lib/python3.10/site-packages (from pm4py) (3.1.0)\n",
      "Requirement already satisfied: networkx in /home/elinlee/.local/lib/python3.10/site-packages (from pm4py) (3.4.2)\n",
      "Requirement already satisfied: packaging in /home/elinlee/.local/lib/python3.10/site-packages (from deprecation->pm4py) (24.2)\n",
      "Requirement already satisfied: sortedcontainers<3.0,>=2.0 in /home/elinlee/.local/lib/python3.10/site-packages (from intervaltree->pm4py) (2.4.0)\n",
      "Requirement already satisfied: fonttools>=4.22.0 in /home/elinlee/.local/lib/python3.10/site-packages (from matplotlib->pm4py) (4.57.0)\n",
      "Requirement already satisfied: contourpy>=1.0.1 in /home/elinlee/.local/lib/python3.10/site-packages (from matplotlib->pm4py) (1.3.1)\n",
      "Requirement already satisfied: pyparsing>=2.3.1 in /usr/lib/python3/dist-packages (from matplotlib->pm4py) (2.4.7)\n",
      "Requirement already satisfied: cycler>=0.10 in /home/elinlee/.local/lib/python3.10/site-packages (from matplotlib->pm4py) (0.12.1)\n",
      "Requirement already satisfied: python-dateutil>=2.7 in /home/elinlee/.local/lib/python3.10/site-packages (from matplotlib->pm4py) (2.9.0.post0)\n",
      "Requirement already satisfied: kiwisolver>=1.3.1 in /home/elinlee/.local/lib/python3.10/site-packages (from matplotlib->pm4py) (1.4.8)\n",
      "Requirement already satisfied: pillow>=8 in /home/elinlee/.local/lib/python3.10/site-packages (from matplotlib->pm4py) (11.1.0)\n",
      "Requirement already satisfied: tzdata>=2022.7 in /home/elinlee/.local/lib/python3.10/site-packages (from pandas->pm4py) (2025.1)\n",
      "Requirement already satisfied: six>=1.5 in /usr/lib/python3/dist-packages (from python-dateutil>=2.7->matplotlib->pm4py) (1.16.0)\n"
     ]
    }
   ],
   "source": [
    "!pip install pm4py\n"
   ]
  },
  {
   "cell_type": "code",
   "execution_count": 2,
   "id": "9b72c9ae",
   "metadata": {},
   "outputs": [
    {
     "name": "stdout",
     "output_type": "stream",
     "text": [
      "Defaulting to user installation because normal site-packages is not writeable\n",
      "Requirement already satisfied: pm4py in /home/elinlee/.local/lib/python3.10/site-packages (2.7.14.4)\n",
      "Requirement already satisfied: scipy in /home/elinlee/.local/lib/python3.10/site-packages (from pm4py) (1.15.2)\n",
      "Requirement already satisfied: cvxopt in /home/elinlee/.local/lib/python3.10/site-packages (from pm4py) (1.3.2)\n",
      "Requirement already satisfied: deprecation in /home/elinlee/.local/lib/python3.10/site-packages (from pm4py) (2.1.0)\n",
      "Requirement already satisfied: matplotlib in /home/elinlee/.local/lib/python3.10/site-packages (from pm4py) (3.10.1)\n",
      "Requirement already satisfied: tqdm in /home/elinlee/.local/lib/python3.10/site-packages (from pm4py) (4.67.1)\n",
      "Requirement already satisfied: lxml in /home/elinlee/.local/lib/python3.10/site-packages (from pm4py) (5.3.2)\n",
      "Requirement already satisfied: intervaltree in /home/elinlee/.local/lib/python3.10/site-packages (from pm4py) (3.1.0)\n",
      "Requirement already satisfied: pandas in /home/elinlee/.local/lib/python3.10/site-packages (from pm4py) (2.2.3)\n",
      "Requirement already satisfied: graphviz in /home/elinlee/.local/lib/python3.10/site-packages (from pm4py) (0.20.3)\n",
      "Requirement already satisfied: pytz in /home/elinlee/.local/lib/python3.10/site-packages (from pm4py) (2025.1)\n",
      "Requirement already satisfied: pydotplus in /home/elinlee/.local/lib/python3.10/site-packages (from pm4py) (2.0.2)\n",
      "Requirement already satisfied: wheel in /usr/lib/python3/dist-packages (from pm4py) (0.37.1)\n",
      "Requirement already satisfied: numpy in /home/elinlee/.local/lib/python3.10/site-packages (from pm4py) (2.2.2)\n",
      "Requirement already satisfied: setuptools in /usr/lib/python3/dist-packages (from pm4py) (59.6.0)\n",
      "Requirement already satisfied: networkx in /home/elinlee/.local/lib/python3.10/site-packages (from pm4py) (3.4.2)\n",
      "Requirement already satisfied: packaging in /home/elinlee/.local/lib/python3.10/site-packages (from deprecation->pm4py) (24.2)\n",
      "Requirement already satisfied: sortedcontainers<3.0,>=2.0 in /home/elinlee/.local/lib/python3.10/site-packages (from intervaltree->pm4py) (2.4.0)\n",
      "Requirement already satisfied: pyparsing>=2.3.1 in /usr/lib/python3/dist-packages (from matplotlib->pm4py) (2.4.7)\n",
      "Requirement already satisfied: kiwisolver>=1.3.1 in /home/elinlee/.local/lib/python3.10/site-packages (from matplotlib->pm4py) (1.4.8)\n",
      "Requirement already satisfied: python-dateutil>=2.7 in /home/elinlee/.local/lib/python3.10/site-packages (from matplotlib->pm4py) (2.9.0.post0)\n",
      "Requirement already satisfied: pillow>=8 in /home/elinlee/.local/lib/python3.10/site-packages (from matplotlib->pm4py) (11.1.0)\n",
      "Requirement already satisfied: cycler>=0.10 in /home/elinlee/.local/lib/python3.10/site-packages (from matplotlib->pm4py) (0.12.1)\n",
      "Requirement already satisfied: contourpy>=1.0.1 in /home/elinlee/.local/lib/python3.10/site-packages (from matplotlib->pm4py) (1.3.1)\n",
      "Requirement already satisfied: fonttools>=4.22.0 in /home/elinlee/.local/lib/python3.10/site-packages (from matplotlib->pm4py) (4.57.0)\n",
      "Requirement already satisfied: tzdata>=2022.7 in /home/elinlee/.local/lib/python3.10/site-packages (from pandas->pm4py) (2025.1)\n",
      "Requirement already satisfied: six>=1.5 in /usr/lib/python3/dist-packages (from python-dateutil>=2.7->matplotlib->pm4py) (1.16.0)\n"
     ]
    }
   ],
   "source": [
    "!pip install --upgrade pm4py\n"
   ]
  },
  {
   "cell_type": "code",
   "execution_count": 3,
   "id": "edbd0dd7",
   "metadata": {},
   "outputs": [],
   "source": [
    "!which python"
   ]
  },
  {
   "cell_type": "code",
   "execution_count": 10,
   "id": "fe88648f",
   "metadata": {},
   "outputs": [
    {
     "name": "stdout",
     "output_type": "stream",
     "text": [
      "Error during log import: [Errno 2] No such file or directory: 'ticket_process.csv'\n"
     ]
    }
   ],
   "source": [
    "from pm4py.objects.log.util import dataframe_utils\n",
    "from pm4py.objects.conversion.log import converter as log_converter\n",
    "import pandas as pd\n",
    "import pm4py\n",
    "\n",
    "# CSV 파일 읽기\n",
    "try:\n",
    "    df = pd.read_csv('ticket_process.csv')\n",
    "    print(\"CSV file loaded successfully!\")\n",
    "    print(df.head())\n",
    "\n",
    "    # DataFrame을 Event Log로 변환\n",
    "    df = dataframe_utils.convert_timestamp_columns_in_df(df)\n",
    "    log = log_converter.apply(df, variant=log_converter.Variants.TO_EVENT_LOG)\n",
    "    print(\"Event log converted successfully!\")\n",
    "    print(log)\n",
    "except Exception as e:\n",
    "    print(\"Error during log import:\", e)\n"
   ]
  },
  {
   "cell_type": "code",
   "execution_count": 7,
   "id": "40b34106",
   "metadata": {},
   "outputs": [
    {
     "ename": "NameError",
     "evalue": "name 'csv_importer' is not defined",
     "output_type": "error",
     "traceback": [
      "\u001b[0;31m---------------------------------------------------------------------------\u001b[0m",
      "\u001b[0;31mNameError\u001b[0m                                 Traceback (most recent call last)",
      "Cell \u001b[0;32mIn[7], line 2\u001b[0m\n\u001b[1;32m      1\u001b[0m \u001b[38;5;66;03m# Load event log from CSV file\u001b[39;00m\n\u001b[0;32m----> 2\u001b[0m event_log \u001b[38;5;241m=\u001b[39m \u001b[43mcsv_importer\u001b[49m\u001b[38;5;241m.\u001b[39mimport_event_stream(\u001b[38;5;124m'\u001b[39m\u001b[38;5;124mticket_process.csv\u001b[39m\u001b[38;5;124m'\u001b[39m, parameters\u001b[38;5;241m=\u001b[39m{\u001b[38;5;124m'\u001b[39m\u001b[38;5;124mtimestamp_sort\u001b[39m\u001b[38;5;124m'\u001b[39m: \u001b[38;5;28;01mTrue\u001b[39;00m})\n",
      "\u001b[0;31mNameError\u001b[0m: name 'csv_importer' is not defined"
     ]
    }
   ],
   "source": [
    "# Load event log from CSV file\n",
    "event_log = csv_importer.import_event_stream('ticket_process.csv', parameters={'timestamp_sort': True})\n"
   ]
  },
  {
   "cell_type": "code",
   "execution_count": null,
   "id": "cfdf36a6",
   "metadata": {},
   "outputs": [],
   "source": [
    "# Perform process discovery using Alpha Miner\n",
    "net, initial_marking, final_marking = alpha_miner.apply(event_log)\n"
   ]
  },
  {
   "cell_type": "code",
   "execution_count": null,
   "id": "8a1dcdbb",
   "metadata": {},
   "outputs": [],
   "source": [
    "# Visualize Petri net\n",
    "gviz = pn_visualizer.apply(net, initial_marking, final_marking)\n",
    "pn_visualizer.view(gviz)"
   ]
  }
 ],
 "metadata": {
  "kernelspec": {
   "display_name": "Python 3 (ipykernel)",
   "language": "python",
   "name": "python3"
  },
  "language_info": {
   "codemirror_mode": {
    "name": "ipython",
    "version": 3
   },
   "file_extension": ".py",
   "mimetype": "text/x-python",
   "name": "python",
   "nbconvert_exporter": "python",
   "pygments_lexer": "ipython3",
   "version": "3.10.12"
  }
 },
 "nbformat": 4,
 "nbformat_minor": 5
}
